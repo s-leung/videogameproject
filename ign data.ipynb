{
 "cells": [
  {
   "cell_type": "code",
   "execution_count": 2,
   "metadata": {
    "collapsed": true
   },
   "outputs": [],
   "source": [
    "import pandas as pd\n",
    "import numpy as np\n",
    "%matplotlib inline\n",
    "import matplotlib.pyplot as plt\n",
    "\n",
    "import seaborn as sns\n",
    "sns.set()"
   ]
  },
  {
   "cell_type": "code",
   "execution_count": 3,
   "metadata": {
    "collapsed": false
   },
   "outputs": [
    {
     "data": {
      "text/html": [
       "<div>\n",
       "<table border=\"1\" class=\"dataframe\">\n",
       "  <thead>\n",
       "    <tr style=\"text-align: right;\">\n",
       "      <th></th>\n",
       "      <th>Unnamed: 0</th>\n",
       "      <th>score_phrase</th>\n",
       "      <th>title</th>\n",
       "      <th>url</th>\n",
       "      <th>platform</th>\n",
       "      <th>score</th>\n",
       "      <th>genre</th>\n",
       "      <th>editors_choice</th>\n",
       "      <th>release_year</th>\n",
       "      <th>release_month</th>\n",
       "      <th>release_day</th>\n",
       "    </tr>\n",
       "  </thead>\n",
       "  <tbody>\n",
       "    <tr>\n",
       "      <th>0</th>\n",
       "      <td>0</td>\n",
       "      <td>Amazing</td>\n",
       "      <td>LittleBigPlanet PS Vita</td>\n",
       "      <td>/games/littlebigplanet-vita/vita-98907</td>\n",
       "      <td>PlayStation Vita</td>\n",
       "      <td>9.0</td>\n",
       "      <td>Platformer</td>\n",
       "      <td>Y</td>\n",
       "      <td>2012</td>\n",
       "      <td>9</td>\n",
       "      <td>12</td>\n",
       "    </tr>\n",
       "    <tr>\n",
       "      <th>1</th>\n",
       "      <td>1</td>\n",
       "      <td>Amazing</td>\n",
       "      <td>LittleBigPlanet PS Vita -- Marvel Super Hero E...</td>\n",
       "      <td>/games/littlebigplanet-ps-vita-marvel-super-he...</td>\n",
       "      <td>PlayStation Vita</td>\n",
       "      <td>9.0</td>\n",
       "      <td>Platformer</td>\n",
       "      <td>Y</td>\n",
       "      <td>2012</td>\n",
       "      <td>9</td>\n",
       "      <td>12</td>\n",
       "    </tr>\n",
       "    <tr>\n",
       "      <th>2</th>\n",
       "      <td>2</td>\n",
       "      <td>Great</td>\n",
       "      <td>Splice: Tree of Life</td>\n",
       "      <td>/games/splice/ipad-141070</td>\n",
       "      <td>iPad</td>\n",
       "      <td>8.5</td>\n",
       "      <td>Puzzle</td>\n",
       "      <td>N</td>\n",
       "      <td>2012</td>\n",
       "      <td>9</td>\n",
       "      <td>12</td>\n",
       "    </tr>\n",
       "    <tr>\n",
       "      <th>3</th>\n",
       "      <td>3</td>\n",
       "      <td>Great</td>\n",
       "      <td>NHL 13</td>\n",
       "      <td>/games/nhl-13/xbox-360-128182</td>\n",
       "      <td>Xbox 360</td>\n",
       "      <td>8.5</td>\n",
       "      <td>Sports</td>\n",
       "      <td>N</td>\n",
       "      <td>2012</td>\n",
       "      <td>9</td>\n",
       "      <td>11</td>\n",
       "    </tr>\n",
       "    <tr>\n",
       "      <th>4</th>\n",
       "      <td>4</td>\n",
       "      <td>Great</td>\n",
       "      <td>NHL 13</td>\n",
       "      <td>/games/nhl-13/ps3-128181</td>\n",
       "      <td>PlayStation 3</td>\n",
       "      <td>8.5</td>\n",
       "      <td>Sports</td>\n",
       "      <td>N</td>\n",
       "      <td>2012</td>\n",
       "      <td>9</td>\n",
       "      <td>11</td>\n",
       "    </tr>\n",
       "  </tbody>\n",
       "</table>\n",
       "</div>"
      ],
      "text/plain": [
       "   Unnamed: 0 score_phrase                                              title  \\\n",
       "0           0      Amazing                            LittleBigPlanet PS Vita   \n",
       "1           1      Amazing  LittleBigPlanet PS Vita -- Marvel Super Hero E...   \n",
       "2           2        Great                               Splice: Tree of Life   \n",
       "3           3        Great                                             NHL 13   \n",
       "4           4        Great                                             NHL 13   \n",
       "\n",
       "                                                 url          platform  score  \\\n",
       "0             /games/littlebigplanet-vita/vita-98907  PlayStation Vita    9.0   \n",
       "1  /games/littlebigplanet-ps-vita-marvel-super-he...  PlayStation Vita    9.0   \n",
       "2                          /games/splice/ipad-141070              iPad    8.5   \n",
       "3                      /games/nhl-13/xbox-360-128182          Xbox 360    8.5   \n",
       "4                           /games/nhl-13/ps3-128181     PlayStation 3    8.5   \n",
       "\n",
       "        genre editors_choice  release_year  release_month  release_day  \n",
       "0  Platformer              Y          2012              9           12  \n",
       "1  Platformer              Y          2012              9           12  \n",
       "2      Puzzle              N          2012              9           12  \n",
       "3      Sports              N          2012              9           11  \n",
       "4      Sports              N          2012              9           11  "
      ]
     },
     "execution_count": 3,
     "metadata": {},
     "output_type": "execute_result"
    }
   ],
   "source": [
    "ign = pd.read_csv(\"ign.csv\")\n",
    "ign.head()"
   ]
  },
  {
   "cell_type": "code",
   "execution_count": 10,
   "metadata": {
    "collapsed": false
   },
   "outputs": [
    {
     "data": {
      "text/plain": [
       "Unnamed: 0        False\n",
       "score_phrase      False\n",
       "title             False\n",
       "url               False\n",
       "platform          False\n",
       "score             False\n",
       "genre              True\n",
       "editors_choice    False\n",
       "release_year      False\n",
       "release_month     False\n",
       "release_day       False\n",
       "dtype: bool"
      ]
     },
     "execution_count": 10,
     "metadata": {},
     "output_type": "execute_result"
    }
   ],
   "source": [
    "ign.isnull().any() #do any columns have null values "
   ]
  },
  {
   "cell_type": "code",
   "execution_count": 11,
   "metadata": {
    "collapsed": false
   },
   "outputs": [
    {
     "data": {
      "text/html": [
       "<div>\n",
       "<table border=\"1\" class=\"dataframe\">\n",
       "  <thead>\n",
       "    <tr style=\"text-align: right;\">\n",
       "      <th></th>\n",
       "      <th>Unnamed: 0</th>\n",
       "      <th>score</th>\n",
       "      <th>release_year</th>\n",
       "      <th>release_month</th>\n",
       "      <th>release_day</th>\n",
       "    </tr>\n",
       "  </thead>\n",
       "  <tbody>\n",
       "    <tr>\n",
       "      <th>count</th>\n",
       "      <td>18625.000000</td>\n",
       "      <td>18625.000000</td>\n",
       "      <td>18625.000000</td>\n",
       "      <td>18625.00000</td>\n",
       "      <td>18625.000000</td>\n",
       "    </tr>\n",
       "    <tr>\n",
       "      <th>mean</th>\n",
       "      <td>9312.000000</td>\n",
       "      <td>6.950459</td>\n",
       "      <td>2006.515329</td>\n",
       "      <td>7.13847</td>\n",
       "      <td>15.603866</td>\n",
       "    </tr>\n",
       "    <tr>\n",
       "      <th>std</th>\n",
       "      <td>5376.718717</td>\n",
       "      <td>1.711736</td>\n",
       "      <td>4.587529</td>\n",
       "      <td>3.47671</td>\n",
       "      <td>8.690128</td>\n",
       "    </tr>\n",
       "    <tr>\n",
       "      <th>min</th>\n",
       "      <td>0.000000</td>\n",
       "      <td>0.500000</td>\n",
       "      <td>1970.000000</td>\n",
       "      <td>1.00000</td>\n",
       "      <td>1.000000</td>\n",
       "    </tr>\n",
       "    <tr>\n",
       "      <th>25%</th>\n",
       "      <td>4656.000000</td>\n",
       "      <td>6.000000</td>\n",
       "      <td>2003.000000</td>\n",
       "      <td>4.00000</td>\n",
       "      <td>8.000000</td>\n",
       "    </tr>\n",
       "    <tr>\n",
       "      <th>50%</th>\n",
       "      <td>9312.000000</td>\n",
       "      <td>7.300000</td>\n",
       "      <td>2007.000000</td>\n",
       "      <td>8.00000</td>\n",
       "      <td>16.000000</td>\n",
       "    </tr>\n",
       "    <tr>\n",
       "      <th>75%</th>\n",
       "      <td>13968.000000</td>\n",
       "      <td>8.200000</td>\n",
       "      <td>2010.000000</td>\n",
       "      <td>10.00000</td>\n",
       "      <td>23.000000</td>\n",
       "    </tr>\n",
       "    <tr>\n",
       "      <th>max</th>\n",
       "      <td>18624.000000</td>\n",
       "      <td>10.000000</td>\n",
       "      <td>2016.000000</td>\n",
       "      <td>12.00000</td>\n",
       "      <td>31.000000</td>\n",
       "    </tr>\n",
       "  </tbody>\n",
       "</table>\n",
       "</div>"
      ],
      "text/plain": [
       "         Unnamed: 0         score  release_year  release_month   release_day\n",
       "count  18625.000000  18625.000000  18625.000000    18625.00000  18625.000000\n",
       "mean    9312.000000      6.950459   2006.515329        7.13847     15.603866\n",
       "std     5376.718717      1.711736      4.587529        3.47671      8.690128\n",
       "min        0.000000      0.500000   1970.000000        1.00000      1.000000\n",
       "25%     4656.000000      6.000000   2003.000000        4.00000      8.000000\n",
       "50%     9312.000000      7.300000   2007.000000        8.00000     16.000000\n",
       "75%    13968.000000      8.200000   2010.000000       10.00000     23.000000\n",
       "max    18624.000000     10.000000   2016.000000       12.00000     31.000000"
      ]
     },
     "execution_count": 11,
     "metadata": {},
     "output_type": "execute_result"
    }
   ],
   "source": [
    "ign.describe()"
   ]
  },
  {
   "cell_type": "code",
   "execution_count": 12,
   "metadata": {
    "collapsed": false
   },
   "outputs": [
    {
     "data": {
      "text/plain": [
       "Unnamed: 0          int64\n",
       "score_phrase       object\n",
       "title              object\n",
       "url                object\n",
       "platform           object\n",
       "score             float64\n",
       "genre              object\n",
       "editors_choice     object\n",
       "release_year        int64\n",
       "release_month       int64\n",
       "release_day         int64\n",
       "dtype: object"
      ]
     },
     "execution_count": 12,
     "metadata": {},
     "output_type": "execute_result"
    }
   ],
   "source": [
    "ign.dtypes"
   ]
  },
  {
   "cell_type": "code",
   "execution_count": 13,
   "metadata": {
    "collapsed": false
   },
   "outputs": [],
   "source": [
    "del ign['Unnamed: 0'] #deleting unnecessary column"
   ]
  },
  {
   "cell_type": "code",
   "execution_count": null,
   "metadata": {
    "collapsed": true
   },
   "outputs": [],
   "source": []
  },
  {
   "cell_type": "code",
   "execution_count": 14,
   "metadata": {
    "collapsed": false
   },
   "outputs": [
    {
     "ename": "NameError",
     "evalue": "name 'i' is not defined",
     "output_type": "error",
     "traceback": [
      "\u001b[0;31m---------------------------------------------------------------------------\u001b[0m",
      "\u001b[0;31mNameError\u001b[0m                                 Traceback (most recent call last)",
      "\u001b[0;32m<ipython-input-14-01a72253f232>\u001b[0m in \u001b[0;36m<module>\u001b[0;34m()\u001b[0m\n\u001b[0;32m----> 1\u001b[0;31m \u001b[0mx\u001b[0m \u001b[0;34m=\u001b[0m \u001b[0mi\u001b[0m\u001b[0;34m.\u001b[0m\u001b[0mrelease_month\u001b[0m\u001b[0;34m.\u001b[0m\u001b[0mvalue_counts\u001b[0m\u001b[0;34m(\u001b[0m\u001b[0;34m)\u001b[0m\u001b[0;34m.\u001b[0m\u001b[0msort_index\u001b[0m\u001b[0;34m(\u001b[0m\u001b[0;34m)\u001b[0m\u001b[0;34m\u001b[0m\u001b[0m\n\u001b[0m\u001b[1;32m      2\u001b[0m \u001b[0mx\u001b[0m\u001b[0;34m.\u001b[0m\u001b[0mplot\u001b[0m\u001b[0;34m(\u001b[0m\u001b[0mkind\u001b[0m\u001b[0;34m=\u001b[0m\u001b[0;34m'bar'\u001b[0m\u001b[0;34m,\u001b[0m \u001b[0mtitle\u001b[0m\u001b[0;34m=\u001b[0m\u001b[0;34m'Releases by Month'\u001b[0m\u001b[0;34m)\u001b[0m\u001b[0;34m\u001b[0m\u001b[0m\n",
      "\u001b[0;31mNameError\u001b[0m: name 'i' is not defined"
     ]
    }
   ],
   "source": [
    "x = i.release_month.value_counts().sort_index()\n",
    "x.plot(kind='bar', title='Releases by Month')"
   ]
  },
  {
   "cell_type": "code",
   "execution_count": null,
   "metadata": {
    "collapsed": false
   },
   "outputs": [],
   "source": [
    "randi = i.sample(n=10)\n",
    "\n",
    "sns.barplot(x=randi.genre ,y =randi.release_month)"
   ]
  },
  {
   "cell_type": "code",
   "execution_count": null,
   "metadata": {
    "collapsed": false
   },
   "outputs": [],
   "source": [
    "a = ign[['genre','release_month']]\n",
    "g = a.genre.value_counts().head(10) # find the top 10 genres\n",
    "g\n",
    "#top = ['Action', 'Sports', 'Shooter', 'Racing', 'Adventure', 'Strategy', 'RPG', 'Platformer', 'Puzzle','Action, Adventure']\n",
    "\n",
    "\n",
    "#the number of games released for each genre"
   ]
  },
  {
   "cell_type": "code",
   "execution_count": null,
   "metadata": {
    "collapsed": false
   },
   "outputs": [],
   "source": []
  },
  {
   "cell_type": "markdown",
   "metadata": {},
   "source": [
    "## Releases by Genre "
   ]
  },
  {
   "cell_type": "code",
   "execution_count": 16,
   "metadata": {
    "collapsed": false
   },
   "outputs": [],
   "source": [
    "i = ign\n",
    "\n",
    "\n",
    "#ACTION GAMES RELEASES BY MONTH\n",
    "#any genre that contains \"action\" \n",
    "\n",
    "action = i[(i.genre.str.contains('Action')) & (i.genre.isnull() == False)]\n",
    "actm = action.groupby(['release_month']).size()\n",
    "actm = action.release_month.value_counts().sort_index()\n",
    "\n",
    "\n",
    "#Sports\n",
    "sports = i[(i.genre.str.contains('Sports')) & (i.genre.isnull() == False)]\n",
    "sportsm = sports.release_month.value_counts().sort_index()\n",
    "\n",
    "\n",
    "#Shooter\n",
    "shooter = i[(i.genre.str.contains('Shooter')) & (i.genre.isnull() == False)]\n",
    "shoom = shooter.release_month.value_counts().sort_index()\n",
    "\n",
    "\n",
    "#Racing\n",
    "racing = i[(i.genre.str.contains('Racing')) & (i.genre.isnull() == False)]\n",
    "racm = racing.release_month.value_counts().sort_index()\n",
    "\n",
    "#Adventure\n",
    "adventure = i[(i.genre.str.contains('Adventure')) & (i.genre.isnull()==False)]\n",
    "advm = adventure.release_month.value_counts().sort_index()\n",
    "\n",
    "#Strategy\n",
    "strategy = i[(i.genre.str.contains('Strategy')) & (i.genre.isnull()==False)]\n",
    "stratm = strategy.release_month.value_counts().sort_index()\n",
    "\n",
    "#RPG\n",
    "rpg = i[(i.genre.str.contains('RPG')) & (i.genre.isnull()==False)]\n",
    "rpgm = rpg.release_month.value_counts().sort_index()\n",
    "\n",
    "\n",
    "#Platformer\n",
    "platformer = i[(i.genre.str.contains('Platformer')) & (i.genre.isnull()==False)]\n",
    "platm = platformer.release_month.value_counts().sort_index()\n",
    "\n",
    "#Puzzle\n",
    "puzzle = i[(i.genre.str.contains('Puzzle')) & (i.genre.isnull()==False)]\n",
    "puzzm = puzzle.release_month.value_counts().sort_index()\n",
    "\n",
    "\n",
    "#Action, Adventure\n",
    "ACAD = i[(i.genre.str.contains('Action, Adventure')) & (i.genre.isnull()==False)]\n",
    "ACADm = ACAD.release_month.value_counts().sort_index()\n"
   ]
  },
  {
   "cell_type": "code",
   "execution_count": 17,
   "metadata": {
    "collapsed": false
   },
   "outputs": [
    {
     "data": {
      "image/png": "[encoded data removed]",
      "text/plain": [
       "<matplotlib.figure.Figure at 0x1199f1710>"
      ]
     },
     "metadata": {},
     "output_type": "display_data"
    }
   ],
   "source": [
    "fig, axes = plt.subplots(nrows=5, ncols=2)\n",
    "fig.tight_layout()\n",
    "\n",
    "\n",
    "actm.plot(kind='bar', ax = axes[0,0]).axis('tight'); \n",
    "axes[0,0].set_title('Action')\n",
    "\n",
    "sportsm.plot(kind='bar', color='red', ax = axes[0,1], title='Sports')\n",
    "\n",
    "shoom.plot(kind='bar', color='orange', ax = axes[1,0], title='Shooter')\n",
    "\n",
    "racm.plot(kind='bar', color='pink', ax = axes[1,1], title='Racing')\n",
    "\n",
    "rpgm.plot(kind='bar', color='green', ax = axes[2,0], title='RPG')\n",
    "\n",
    "stratm.plot(kind='bar', color='purple', ax = axes[2,1], title='Strategy')\n",
    "\n",
    "platm.plot(kind='bar', color='yellow', ax = axes[3,0], title='Platformer')\n",
    "\n",
    "puzzm.plot(kind='bar', color='magenta', ax = axes[3,1], title='Puzzle')\n",
    "\n",
    "ACADm.plot(kind='bar', color='black', ax = axes[4,0], title='Action, Adventure')\n",
    "\n",
    "advm.plot(kind='bar', color='white', ax = axes[4,1], title='Adventure')\n",
    "\n",
    "plt.show()"
   ]
  },
  {
   "cell_type": "code",
   "execution_count": null,
   "metadata": {
    "collapsed": false
   },
   "outputs": [],
   "source": []
  },
  {
   "cell_type": "code",
   "execution_count": null,
   "metadata": {
    "collapsed": false
   },
   "outputs": [],
   "source": []
  },
  {
   "cell_type": "code",
   "execution_count": null,
   "metadata": {
    "collapsed": false
   },
   "outputs": [],
   "source": [
    "\n"
   ]
  },
  {
   "cell_type": "code",
   "execution_count": null,
   "metadata": {
    "collapsed": false
   },
   "outputs": [],
   "source": [
    "#FINDING TOP 10 VIDEO GAMES BASED ON SCORE AND THEIR RELEASE DATES\n",
    "\n",
    "#if critic score is 10, it is \n",
    "sc = i[(i.score ==10)]\n",
    "\n",
    "sc.title.value_counts()\n",
    "#why are there 5 grandtheft autos? ANSWER: platform \n",
    "\n"
   ]
  },
  {
   "cell_type": "code",
   "execution_count": null,
   "metadata": {
    "collapsed": false
   },
   "outputs": [],
   "source": [
    "#finding the unique number of platform\n",
    "sc.groupby(['platform']).size()"
   ]
  },
  {
   "cell_type": "code",
   "execution_count": null,
   "metadata": {
    "collapsed": false
   },
   "outputs": [],
   "source": [
    "#find missing genre\n",
    "i[i.genre.isnull() == True]"
   ]
  },
  {
   "cell_type": "code",
   "execution_count": null,
   "metadata": {
    "collapsed": false
   },
   "outputs": [],
   "source": []
  },
  {
   "cell_type": "markdown",
   "metadata": {
    "collapsed": true
   },
   "source": [
    "### Distribution of Scores"
   ]
  },
  {
   "cell_type": "markdown",
   "metadata": {},
   "source": [
    "Distribution of Scores for all Genres"
   ]
  },
  {
   "cell_type": "code",
   "execution_count": null,
   "metadata": {
    "collapsed": false
   },
   "outputs": [],
   "source": [
    "sns.distplot(i.score,bins=25, axlabel='Score Distribution ')\n",
    "\n",
    "\n",
    "i.score.describe()\n",
    "\n",
    "#distribution of all scores"
   ]
  },
  {
   "cell_type": "markdown",
   "metadata": {},
   "source": [
    "Distribution of Scores for Action Games"
   ]
  },
  {
   "cell_type": "code",
   "execution_count": null,
   "metadata": {
    "collapsed": false
   },
   "outputs": [],
   "source": [
    "sns.distplot(action.score, bins=25)\n",
    "\n",
    "action.score.describe()"
   ]
  },
  {
   "cell_type": "markdown",
   "metadata": {},
   "source": [
    "Distribution of Scores for RPG"
   ]
  },
  {
   "cell_type": "code",
   "execution_count": null,
   "metadata": {
    "collapsed": false
   },
   "outputs": [],
   "source": [
    "sns.distplot(rpg.score)\n",
    "\n",
    "rpg.score.describe()"
   ]
  },
  {
   "cell_type": "code",
   "execution_count": null,
   "metadata": {
    "collapsed": false
   },
   "outputs": [],
   "source": []
  },
  {
   "cell_type": "code",
   "execution_count": null,
   "metadata": {
    "collapsed": false
   },
   "outputs": [],
   "source": [
    "sns.distplot(shooter.score)\n",
    "shooter.score.describe()"
   ]
  },
  {
   "cell_type": "code",
   "execution_count": null,
   "metadata": {
    "collapsed": false
   },
   "outputs": [],
   "source": []
  },
  {
   "cell_type": "code",
   "execution_count": null,
   "metadata": {
    "collapsed": false
   },
   "outputs": [],
   "source": [
    "plat_counts = {}\n",
    "\n",
    "for entry in ign['platform']:\n",
    "    if entry in plat_counts.keys():\n",
    "        plat_counts[entry] +=1\n",
    "    else:\n",
    "        plat_counts[entry] = 1\n",
    "print plat_counts"
   ]
  },
  {
   "cell_type": "code",
   "execution_count": null,
   "metadata": {
    "collapsed": false
   },
   "outputs": [],
   "source": [
    "plat_counts = {}\n",
    "for entry in ign['score_phrase']:\n",
    "    if entry in plat_counts.keys():\n",
    "        plat_counts[entry] +=1"
   ]
  },
  {
   "cell_type": "code",
   "execution_count": 5,
   "metadata": {
    "collapsed": false
   },
   "outputs": [
    {
     "data": {
      "text/plain": [
       "PC                      3370\n",
       "PlayStation 2           1686\n",
       "Xbox 360                1631\n",
       "Wii                     1366\n",
       "PlayStation 3           1356\n",
       "Nintendo DS             1045\n",
       "PlayStation              952\n",
       "Wireless                 910\n",
       "iPhone                   842\n",
       "Xbox                     821\n",
       "PlayStation Portable     633\n",
       "Game Boy Advance         623\n",
       "GameCube                 509\n",
       "Game Boy Color           356\n",
       "Nintendo 64              302\n",
       "Dreamcast                286\n",
       "PlayStation 4            277\n",
       "Nintendo DSi             254\n",
       "Nintendo 3DS             225\n",
       "Xbox One                 208\n",
       "PlayStation Vita         155\n",
       "Wii U                    114\n",
       "iPad                      99\n",
       "Lynx                      82\n",
       "Macintosh                 81\n",
       "Genesis                   58\n",
       "NES                       49\n",
       "TurboGrafx-16             40\n",
       "Android                   39\n",
       "Super NES                 33\n",
       "NeoGeo Pocket Color       31\n",
       "N-Gage                    30\n",
       "Game Boy                  22\n",
       "iPod                      17\n",
       "Sega 32X                  16\n",
       "Windows Phone             14\n",
       "Master System             13\n",
       "Arcade                    11\n",
       "NeoGeo                    10\n",
       "Linux                     10\n",
       "Nintendo 64DD              7\n",
       "Commodore 64/128           6\n",
       "Saturn                     6\n",
       "Atari 2600                 5\n",
       "WonderSwan                 4\n",
       "TurboGrafx-CD              3\n",
       "Game.Com                   3\n",
       "New Nintendo 3DS           2\n",
       "Atari 5200                 2\n",
       "Vectrex                    2\n",
       "WonderSwan Color           1\n",
       "Web Games                  1\n",
       "Dreamcast VMU              1\n",
       "Ouya                       1\n",
       "DVD / HD Video Game        1\n",
       "SteamOS                    1\n",
       "Pocket PC                  1\n",
       "Windows Surface            1\n",
       "Sega CD                    1\n",
       "Name: platform, dtype: int64"
      ]
     },
     "execution_count": 5,
     "metadata": {},
     "output_type": "execute_result"
    }
   ],
   "source": [
    "ign.platform.value_counts()"
   ]
  },
  {
   "cell_type": "code",
   "execution_count": null,
   "metadata": {
    "collapsed": true
   },
   "outputs": [],
   "source": []
  }
 ],
 "metadata": {
  "anaconda-cloud": {},
  "kernelspec": {
   "display_name": "Python [default]",
   "language": "python",
   "name": "python2"
  },
  "language_info": {
   "codemirror_mode": {
    "name": "ipython",
    "version": 2
   },
   "file_extension": ".py",
   "mimetype": "text/x-python",
   "name": "python",
   "nbconvert_exporter": "python",
   "pygments_lexer": "ipython2",
   "version": "2.7.12"
  }
 },
 "nbformat": 4,
 "nbformat_minor": 1
}
